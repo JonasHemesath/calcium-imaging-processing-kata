{
 "metadata": {
  "language_info": {
   "codemirror_mode": {
    "name": "ipython",
    "version": 3
   },
   "file_extension": ".py",
   "mimetype": "text/x-python",
   "name": "python",
   "nbconvert_exporter": "python",
   "pygments_lexer": "ipython3",
   "version": "3.8.5-final"
  },
  "orig_nbformat": 2,
  "kernelspec": {
   "name": "python3",
   "display_name": "Python 3.8.5 64-bit ('tryPyCharm': conda)",
   "metadata": {
    "interpreter": {
     "hash": "b5cce6c0657068a2def11c728d028ab9f82348536ecee54edd92b3da8b7e5e7c"
    }
   }
  }
 },
 "nbformat": 4,
 "nbformat_minor": 2,
 "cells": [
  {
   "cell_type": "code",
   "execution_count": 1,
   "metadata": {},
   "outputs": [],
   "source": [
    "%gui qt"
   ]
  },
  {
   "cell_type": "code",
   "execution_count": 2,
   "metadata": {},
   "outputs": [],
   "source": [
    "import napari\n",
    "from pathlib import Path \n",
    "import tifffile"
   ]
  },
  {
   "cell_type": "code",
   "execution_count": 3,
   "metadata": {},
   "outputs": [],
   "source": [
    "viewer=napari.Viewer()"
   ]
  },
  {
   "cell_type": "code",
   "execution_count": 4,
   "metadata": {},
   "outputs": [
    {
     "output_type": "execute_result",
     "data": {
      "text/plain": [
       "[WindowsPath('../../data/raw/image00000.tif'),\n",
       " WindowsPath('../../data/raw/image00001.tif'),\n",
       " WindowsPath('../../data/raw/image00002.tif'),\n",
       " WindowsPath('../../data/raw/image00003.tif'),\n",
       " WindowsPath('../../data/raw/image00004.tif')]"
      ]
     },
     "metadata": {},
     "execution_count": 4
    }
   ],
   "source": [
    "files = list(Path(\"../../data/raw\").glob(\"*.tif\"))\n",
    "files[:5]"
   ]
  },
  {
   "cell_type": "code",
   "execution_count": 5,
   "metadata": {},
   "outputs": [
    {
     "output_type": "execute_result",
     "data": {
      "text/plain": [
       "array([[[1.07476611e+03, 6.24505859e+02, 1.45278064e+03, ...,\n",
       "         2.03945801e+03, 7.29621643e+02, 2.69578052e+03],\n",
       "        [6.17319702e+02, 2.90935791e+03, 8.93672180e+02, ...,\n",
       "         1.44418835e+03, 2.37615210e+03, 4.84415674e+03],\n",
       "        [1.66919397e+03, 1.00000000e+00, 1.00000000e+00, ...,\n",
       "         4.15651123e+03, 3.21278809e+03, 2.07139819e+03],\n",
       "        ...,\n",
       "        [7.76479431e+02, 3.23205566e+00, 1.43350830e+01, ...,\n",
       "         7.06813232e+02, 8.43675964e+02, 5.57049316e+02],\n",
       "        [1.00000000e+00, 7.47982178e+01, 4.49567871e+01, ...,\n",
       "         1.00000000e+00, 3.48712158e+01, 3.38329468e+02],\n",
       "        [1.00000000e+00, 8.45765869e+02, 6.27531494e+02, ...,\n",
       "         2.65292969e+01, 3.64287842e+02, 1.24022119e+03]],\n",
       "\n",
       "       [[2.43400000e+03, 2.25000000e+02, 1.00000000e+00, ...,\n",
       "         1.64900000e+03, 6.64000000e+02, 7.92000000e+02],\n",
       "        [1.67600000e+03, 1.55700000e+03, 1.99200000e+03, ...,\n",
       "         8.58000000e+02, 2.50000000e+01, 1.53000000e+02],\n",
       "        [2.49000000e+02, 3.17200000e+03, 9.50000000e+02, ...,\n",
       "         4.10000000e+01, 1.30000000e+01, 1.06800000e+03],\n",
       "        ...,\n",
       "        [5.13000000e+02, 1.20000000e+01, 1.83000000e+02, ...,\n",
       "         2.20600000e+03, 2.01500000e+03, 1.04600000e+03],\n",
       "        [1.00000000e+00, 1.70000000e+01, 6.70000000e+01, ...,\n",
       "         2.96200000e+03, 1.00000000e+00, 9.50000000e+01],\n",
       "        [1.63300000e+03, 9.27000000e+02, 5.10000000e+01, ...,\n",
       "         5.72000000e+02, 1.95700000e+03, 7.67000000e+02]],\n",
       "\n",
       "       [[2.84157715e+02, 7.46736877e+02, 2.05336597e+03, ...,\n",
       "         2.58963354e+03, 2.01011877e+03, 1.70024731e+03],\n",
       "        [5.15800659e+02, 3.96637573e+02, 1.52908704e+03, ...,\n",
       "         2.39645776e+03, 2.20905176e+03, 1.08598254e+03],\n",
       "        [1.14580444e+02, 8.67721375e+02, 1.80210962e+03, ...,\n",
       "         1.08808044e+03, 3.24489209e+03, 2.38061670e+03],\n",
       "        ...,\n",
       "        [2.50321655e+02, 5.26520020e+02, 5.23887817e+02, ...,\n",
       "         1.34138318e+03, 2.78239697e+03, 4.22753955e+03],\n",
       "        [5.55979858e+02, 1.34974585e+03, 1.42962622e+03, ...,\n",
       "         1.25699170e+03, 5.05205518e+03, 3.15309717e+03],\n",
       "        [4.29311157e+02, 1.02965430e+03, 1.19395923e+03, ...,\n",
       "         5.73697144e+02, 2.51064331e+03, 1.51351501e+03]],\n",
       "\n",
       "       [[1.17444092e+02, 6.55762451e+02, 2.11459253e+03, ...,\n",
       "         1.00000000e+00, 2.27741455e+02, 1.08624292e+03],\n",
       "        [1.54163574e+02, 3.94509155e+02, 3.19275366e+03, ...,\n",
       "         5.83165405e+02, 4.79474609e+02, 7.99259460e+02],\n",
       "        [4.87521729e+02, 2.23627197e+03, 1.00000000e+00, ...,\n",
       "         6.75592163e+02, 1.36226306e+03, 5.62076660e+02],\n",
       "        ...,\n",
       "        [1.00000000e+00, 1.00000000e+00, 1.00000000e+00, ...,\n",
       "         4.86101685e+02, 1.24559583e+03, 2.27983179e+03],\n",
       "        [1.33971313e+02, 3.63205200e+02, 1.26096008e+03, ...,\n",
       "         8.03084045e+02, 1.60988660e+03, 2.84874146e+02],\n",
       "        [1.00542334e+03, 5.42617798e+02, 1.33288416e+03, ...,\n",
       "         2.18706055e+02, 2.25217773e+02, 1.00000000e+00]],\n",
       "\n",
       "       [[2.95471265e+03, 2.87979419e+03, 1.00000000e+00, ...,\n",
       "         3.29978955e+03, 5.02706152e+03, 1.86416870e+03],\n",
       "        [1.78908960e+03, 1.87784216e+03, 3.87678345e+02, ...,\n",
       "         2.06350659e+03, 4.11842188e+03, 2.28728638e+03],\n",
       "        [1.00076123e+03, 1.09413379e+03, 1.33110815e+03, ...,\n",
       "         4.59512085e+02, 1.61241260e+03, 2.70562305e+03],\n",
       "        ...,\n",
       "        [9.29979248e+01, 3.04527466e+02, 1.00000000e+00, ...,\n",
       "         4.16354858e+02, 1.00000000e+00, 4.56999512e+01],\n",
       "        [1.35126587e+02, 8.34855713e+02, 2.64558472e+02, ...,\n",
       "         1.51270288e+03, 1.00000000e+00, 1.00000000e+00],\n",
       "        [8.15559998e+02, 2.33905566e+03, 1.92711462e+03, ...,\n",
       "         9.22919922e+01, 1.05187354e+03, 1.31214514e+03]]], dtype=float32)"
      ]
     },
     "metadata": {},
     "execution_count": 5
    }
   ],
   "source": [
    "mov = tifffile.TiffSequence(files).asarray()\n",
    "mov[:5]"
   ]
  },
  {
   "cell_type": "code",
   "execution_count": 6,
   "metadata": {},
   "outputs": [
    {
     "output_type": "execute_result",
     "data": {
      "text/plain": [
       "<Image layer 'Image' at 0x20392044430>"
      ]
     },
     "metadata": {},
     "execution_count": 6
    }
   ],
   "source": [
    "viewer.add_image(mov[:500])"
   ]
  },
  {
   "cell_type": "code",
   "execution_count": 9,
   "metadata": {},
   "outputs": [
    {
     "output_type": "execute_result",
     "data": {
      "text/plain": [
       "<Points layer 'Points' at 0x2038c6f23d0>"
      ]
     },
     "metadata": {},
     "execution_count": 9
    }
   ],
   "source": [
    "rois = viewer.layers['Points']\n",
    "rois"
   ]
  },
  {
   "cell_type": "code",
   "execution_count": 16,
   "metadata": {},
   "outputs": [
    {
     "output_type": "execute_result",
     "data": {
      "text/plain": [
       "(344.0, 492.38061902367525, 491.3085331110457)"
      ]
     },
     "metadata": {},
     "execution_count": 16
    }
   ],
   "source": [
    "rois.coordinates"
   ]
  },
  {
   "cell_type": "code",
   "execution_count": 19,
   "metadata": {},
   "outputs": [],
   "source": [
    "rois.data[:, 2] += 50\n"
   ]
  },
  {
   "cell_type": "code",
   "execution_count": 18,
   "metadata": {
    "tags": []
   },
   "outputs": [
    {
     "output_type": "execute_result",
     "data": {
      "text/plain": [
       "array([[1., 1., 1., 1.],\n",
       "       [1., 1., 1., 1.],\n",
       "       [1., 1., 1., 1.],\n",
       "       [1., 1., 1., 1.],\n",
       "       [1., 1., 1., 1.]], dtype=float32)"
      ]
     },
     "metadata": {},
     "execution_count": 18
    }
   ],
   "source": [
    "rois.face_color"
   ]
  },
  {
   "cell_type": "code",
   "execution_count": null,
   "metadata": {},
   "outputs": [],
   "source": []
  }
 ]
}